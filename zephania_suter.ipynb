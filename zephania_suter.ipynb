{
 "cells": [
  {
   "cell_type": "code",
   "execution_count": 1,
   "id": "dd78dec7",
   "metadata": {},
   "outputs": [
    {
     "name": "stdout",
     "output_type": "stream",
     "text": [
      "Collecting textblob\n",
      "  Using cached textblob-0.15.3-py2.py3-none-any.whl (636 kB)\n",
      "Processing /home/jmulagi/.cache/pip/wheels/ff/d5/7b/f1fb4e1e1603b2f01c2424dd60fbcc50c12ef918bafc44b155/nltk-3.5-py3-none-any.whl\n",
      "Collecting joblib\n",
      "  Using cached joblib-1.0.1-py3-none-any.whl (303 kB)\n",
      "Collecting regex\n",
      "  Using cached regex-2021.3.17-cp38-cp38-manylinux2014_x86_64.whl (737 kB)\n",
      "Collecting click\n",
      "  Using cached click-7.1.2-py2.py3-none-any.whl (82 kB)\n",
      "Collecting tqdm\n",
      "  Using cached tqdm-4.59.0-py2.py3-none-any.whl (74 kB)\n",
      "Installing collected packages: joblib, regex, click, tqdm, nltk, textblob\n",
      "Successfully installed click-7.1.2 joblib-1.0.1 nltk-3.5 regex-2021.3.17 textblob-0.15.3 tqdm-4.59.0\n"
     ]
    }
   ],
   "source": [
    "!pip install textblob"
   ]
  },
  {
   "cell_type": "code",
   "execution_count": 2,
   "id": "0fae4849",
   "metadata": {},
   "outputs": [
    {
     "name": "stdout",
     "output_type": "stream",
     "text": [
      "Collecting tweepy\n",
      "  Using cached tweepy-3.10.0-py2.py3-none-any.whl (30 kB)\n",
      "Collecting requests-oauthlib>=0.7.0\n",
      "  Using cached requests_oauthlib-1.3.0-py2.py3-none-any.whl (23 kB)\n",
      "Collecting requests[socks]>=2.11.1\n",
      "  Using cached requests-2.25.1-py2.py3-none-any.whl (61 kB)\n",
      "Requirement already satisfied: six>=1.10.0 in ./project_env/lib/python3.8/site-packages (from tweepy) (1.15.0)\n",
      "Collecting oauthlib>=3.0.0\n",
      "  Using cached oauthlib-3.1.0-py2.py3-none-any.whl (147 kB)\n",
      "Collecting idna<3,>=2.5\n",
      "  Using cached idna-2.10-py2.py3-none-any.whl (58 kB)\n",
      "Collecting chardet<5,>=3.0.2\n",
      "  Using cached chardet-4.0.0-py2.py3-none-any.whl (178 kB)\n",
      "Collecting urllib3<1.27,>=1.21.1\n",
      "  Using cached urllib3-1.26.4-py2.py3-none-any.whl (153 kB)\n",
      "Collecting certifi>=2017.4.17\n",
      "  Using cached certifi-2020.12.5-py2.py3-none-any.whl (147 kB)\n",
      "Collecting PySocks!=1.5.7,>=1.5.6; extra == \"socks\"\n",
      "  Using cached PySocks-1.7.1-py3-none-any.whl (16 kB)\n",
      "Installing collected packages: idna, chardet, urllib3, certifi, PySocks, requests, oauthlib, requests-oauthlib, tweepy\n",
      "Successfully installed PySocks-1.7.1 certifi-2020.12.5 chardet-4.0.0 idna-2.10 oauthlib-3.1.0 requests-2.25.1 requests-oauthlib-1.3.0 tweepy-3.10.0 urllib3-1.26.4\n"
     ]
    }
   ],
   "source": [
    "!pip install tweepy\n"
   ]
  },
  {
   "cell_type": "code",
   "execution_count": 3,
   "id": "d839605b",
   "metadata": {},
   "outputs": [],
   "source": [
    "from textblob import TextBlob"
   ]
  },
  {
   "cell_type": "code",
   "execution_count": 4,
   "id": "48c7ebcf",
   "metadata": {},
   "outputs": [],
   "source": [
    "import sys\n"
   ]
  },
  {
   "cell_type": "code",
   "execution_count": 5,
   "id": "c5786d5f",
   "metadata": {},
   "outputs": [],
   "source": [
    "import tweepy"
   ]
  },
  {
   "cell_type": "code",
   "execution_count": 6,
   "id": "bc75c51c",
   "metadata": {},
   "outputs": [
    {
     "name": "stdout",
     "output_type": "stream",
     "text": [
      "Collecting matplotlib\n",
      "  Using cached matplotlib-3.4.1-cp38-cp38-manylinux1_x86_64.whl (10.3 MB)\n",
      "Requirement already satisfied: pyparsing>=2.2.1 in ./project_env/lib/python3.8/site-packages (from matplotlib) (2.4.7)\n",
      "Requirement already satisfied: python-dateutil>=2.7 in ./project_env/lib/python3.8/site-packages (from matplotlib) (2.8.1)\n",
      "Collecting kiwisolver>=1.0.1\n",
      "  Using cached kiwisolver-1.3.1-cp38-cp38-manylinux1_x86_64.whl (1.2 MB)\n",
      "Collecting pillow>=6.2.0\n",
      "  Using cached Pillow-8.2.0-cp38-cp38-manylinux1_x86_64.whl (3.0 MB)\n",
      "Collecting numpy>=1.16\n",
      "  Using cached numpy-1.20.2-cp38-cp38-manylinux2010_x86_64.whl (15.4 MB)\n",
      "Collecting cycler>=0.10\n",
      "  Using cached cycler-0.10.0-py2.py3-none-any.whl (6.5 kB)\n",
      "Requirement already satisfied: six>=1.5 in ./project_env/lib/python3.8/site-packages (from python-dateutil>=2.7->matplotlib) (1.15.0)\n",
      "Installing collected packages: kiwisolver, pillow, numpy, cycler, matplotlib\n",
      "Successfully installed cycler-0.10.0 kiwisolver-1.3.1 matplotlib-3.4.1 numpy-1.20.2 pillow-8.2.0\n"
     ]
    }
   ],
   "source": [
    "!pip install matplotlib"
   ]
  },
  {
   "cell_type": "code",
   "execution_count": 7,
   "id": "9e7e3b5c",
   "metadata": {},
   "outputs": [],
   "source": [
    "import matplotlib.pyplot as plt"
   ]
  },
  {
   "cell_type": "code",
   "execution_count": 8,
   "id": "44b77d36",
   "metadata": {},
   "outputs": [
    {
     "name": "stdout",
     "output_type": "stream",
     "text": [
      "Collecting pandas\n",
      "  Using cached pandas-1.2.3-cp38-cp38-manylinux1_x86_64.whl (9.7 MB)\n",
      "Requirement already satisfied: python-dateutil>=2.7.3 in ./project_env/lib/python3.8/site-packages (from pandas) (2.8.1)\n",
      "Collecting pytz>=2017.3\n",
      "  Using cached pytz-2021.1-py2.py3-none-any.whl (510 kB)\n",
      "Requirement already satisfied: numpy>=1.16.5 in ./project_env/lib/python3.8/site-packages (from pandas) (1.20.2)\n",
      "Requirement already satisfied: six>=1.5 in ./project_env/lib/python3.8/site-packages (from python-dateutil>=2.7.3->pandas) (1.15.0)\n",
      "Installing collected packages: pytz, pandas\n",
      "Successfully installed pandas-1.2.3 pytz-2021.1\n"
     ]
    }
   ],
   "source": [
    "!pip install pandas"
   ]
  },
  {
   "cell_type": "code",
   "execution_count": 9,
   "id": "757a8f27",
   "metadata": {},
   "outputs": [],
   "source": [
    "import numpy as np\n"
   ]
  },
  {
   "cell_type": "code",
   "execution_count": 10,
   "id": "41f93d4d",
   "metadata": {},
   "outputs": [],
   "source": [
    "import os"
   ]
  },
  {
   "cell_type": "code",
   "execution_count": 11,
   "id": "9f72f953",
   "metadata": {},
   "outputs": [],
   "source": [
    "import nltk\n"
   ]
  },
  {
   "cell_type": "code",
   "execution_count": 12,
   "id": "62b26100",
   "metadata": {},
   "outputs": [
    {
     "name": "stdout",
     "output_type": "stream",
     "text": [
      "Processing /home/jmulagi/.cache/pip/wheels/09/eb/0d/4ee773c6a4aadc2a43cb5c1d07f268f13c4cdc0eec88e7c1ef/pycountry-20.7.3-py2.py3-none-any.whl\n",
      "Installing collected packages: pycountry\n",
      "Successfully installed pycountry-20.7.3\n"
     ]
    }
   ],
   "source": [
    "!pip install pycountry"
   ]
  },
  {
   "cell_type": "code",
   "execution_count": 13,
   "id": "f4b9167c",
   "metadata": {},
   "outputs": [],
   "source": [
    "import pycountry"
   ]
  },
  {
   "cell_type": "code",
   "execution_count": 14,
   "id": "416526cf",
   "metadata": {},
   "outputs": [],
   "source": [
    "import re"
   ]
  },
  {
   "cell_type": "code",
   "execution_count": 15,
   "id": "5dde727a",
   "metadata": {},
   "outputs": [],
   "source": [
    "import string"
   ]
  },
  {
   "cell_type": "code",
   "execution_count": 16,
   "id": "0e2b30c9",
   "metadata": {},
   "outputs": [
    {
     "name": "stdout",
     "output_type": "stream",
     "text": [
      "Collecting wordcloud\n",
      "  Using cached wordcloud-1.8.1-cp38-cp38-manylinux1_x86_64.whl (371 kB)\n",
      "Requirement already satisfied: matplotlib in ./project_env/lib/python3.8/site-packages (from wordcloud) (3.4.1)\n",
      "Requirement already satisfied: pillow in ./project_env/lib/python3.8/site-packages (from wordcloud) (8.2.0)\n",
      "Requirement already satisfied: numpy>=1.6.1 in ./project_env/lib/python3.8/site-packages (from wordcloud) (1.20.2)\n",
      "Requirement already satisfied: pyparsing>=2.2.1 in ./project_env/lib/python3.8/site-packages (from matplotlib->wordcloud) (2.4.7)\n",
      "Requirement already satisfied: cycler>=0.10 in ./project_env/lib/python3.8/site-packages (from matplotlib->wordcloud) (0.10.0)\n",
      "Requirement already satisfied: python-dateutil>=2.7 in ./project_env/lib/python3.8/site-packages (from matplotlib->wordcloud) (2.8.1)\n",
      "Requirement already satisfied: kiwisolver>=1.0.1 in ./project_env/lib/python3.8/site-packages (from matplotlib->wordcloud) (1.3.1)\n",
      "Requirement already satisfied: six in ./project_env/lib/python3.8/site-packages (from cycler>=0.10->matplotlib->wordcloud) (1.15.0)\n",
      "Installing collected packages: wordcloud\n",
      "Successfully installed wordcloud-1.8.1\n"
     ]
    }
   ],
   "source": [
    "!pip install wordcloud"
   ]
  },
  {
   "cell_type": "code",
   "execution_count": 17,
   "id": "d586e901",
   "metadata": {},
   "outputs": [
    {
     "name": "stdout",
     "output_type": "stream",
     "text": [
      "Requirement already satisfied: wordcloud in ./project_env/lib/python3.8/site-packages (1.8.1)\n",
      "Requirement already satisfied: numpy>=1.6.1 in ./project_env/lib/python3.8/site-packages (from wordcloud) (1.20.2)\n",
      "Requirement already satisfied: pillow in ./project_env/lib/python3.8/site-packages (from wordcloud) (8.2.0)\n",
      "Requirement already satisfied: matplotlib in ./project_env/lib/python3.8/site-packages (from wordcloud) (3.4.1)\n",
      "Requirement already satisfied: cycler>=0.10 in ./project_env/lib/python3.8/site-packages (from matplotlib->wordcloud) (0.10.0)\n",
      "Requirement already satisfied: kiwisolver>=1.0.1 in ./project_env/lib/python3.8/site-packages (from matplotlib->wordcloud) (1.3.1)\n",
      "Requirement already satisfied: pyparsing>=2.2.1 in ./project_env/lib/python3.8/site-packages (from matplotlib->wordcloud) (2.4.7)\n",
      "Requirement already satisfied: python-dateutil>=2.7 in ./project_env/lib/python3.8/site-packages (from matplotlib->wordcloud) (2.8.1)\n",
      "Requirement already satisfied: six in ./project_env/lib/python3.8/site-packages (from cycler>=0.10->matplotlib->wordcloud) (1.15.0)\n"
     ]
    }
   ],
   "source": [
    "!pip install wordcloud"
   ]
  },
  {
   "cell_type": "code",
   "execution_count": 18,
   "id": "20c2b58d",
   "metadata": {},
   "outputs": [],
   "source": [
    "from wordcloud import WordCloud, STOPWORDS"
   ]
  },
  {
   "cell_type": "code",
   "execution_count": 19,
   "id": "08b9e746",
   "metadata": {},
   "outputs": [],
   "source": [
    "from PIL import Image"
   ]
  },
  {
   "cell_type": "code",
   "execution_count": 20,
   "id": "80b3a6e0",
   "metadata": {},
   "outputs": [],
   "source": [
    "from nltk.sentiment.vader import SentimentIntensityAnalyzer\n"
   ]
  },
  {
   "cell_type": "code",
   "execution_count": 21,
   "id": "66dd12d1",
   "metadata": {},
   "outputs": [
    {
     "name": "stdout",
     "output_type": "stream",
     "text": [
      "Processing /home/jmulagi/.cache/pip/wheels/1e/80/23/0a24928ec3a3906ff5027f38d2fea824e7e97f2ba7c83d91e3/langdetect-1.0.8-py3-none-any.whl\n",
      "Requirement already satisfied: six in ./project_env/lib/python3.8/site-packages (from langdetect) (1.15.0)\n",
      "Installing collected packages: langdetect\n",
      "Successfully installed langdetect-1.0.8\n"
     ]
    }
   ],
   "source": [
    "!pip install langdetect"
   ]
  },
  {
   "cell_type": "code",
   "execution_count": 22,
   "id": "1b643201",
   "metadata": {},
   "outputs": [],
   "source": [
    "from langdetect import detect\n"
   ]
  },
  {
   "cell_type": "code",
   "execution_count": 23,
   "id": "68e0dceb",
   "metadata": {},
   "outputs": [],
   "source": [
    "import pandas as pd\n"
   ]
  },
  {
   "cell_type": "code",
   "execution_count": 24,
   "id": "bd26968f",
   "metadata": {},
   "outputs": [],
   "source": [
    "import pycountry\n"
   ]
  },
  {
   "cell_type": "code",
   "execution_count": 25,
   "id": "a5185094",
   "metadata": {},
   "outputs": [],
   "source": [
    "from langdetect import detect"
   ]
  },
  {
   "cell_type": "code",
   "execution_count": 26,
   "id": "48bbf936",
   "metadata": {},
   "outputs": [],
   "source": [
    "from nltk.stem import SnowballStemmer"
   ]
  },
  {
   "cell_type": "code",
   "execution_count": 27,
   "id": "4f4ea799",
   "metadata": {},
   "outputs": [],
   "source": [
    "from nltk.sentiment.vader import SentimentIntensityAnalyzer"
   ]
  },
  {
   "cell_type": "code",
   "execution_count": 28,
   "id": "fea19bb4",
   "metadata": {},
   "outputs": [
    {
     "name": "stdout",
     "output_type": "stream",
     "text": [
      "Processing /home/jmulagi/.cache/pip/wheels/22/0b/40/fd3f795caaa1fb4c6cb738bc1f56100be1e57da95849bfc897/sklearn-0.0-py2.py3-none-any.whl\n",
      "Collecting scikit-learn\n",
      "  Using cached scikit_learn-0.24.1-cp38-cp38-manylinux2010_x86_64.whl (24.9 MB)\n",
      "Requirement already satisfied: numpy>=1.13.3 in ./project_env/lib/python3.8/site-packages (from scikit-learn->sklearn) (1.20.2)\n",
      "Collecting threadpoolctl>=2.0.0\n",
      "  Using cached threadpoolctl-2.1.0-py3-none-any.whl (12 kB)\n",
      "Collecting scipy>=0.19.1\n",
      "  Using cached scipy-1.6.2-cp38-cp38-manylinux1_x86_64.whl (27.2 MB)\n",
      "Requirement already satisfied: joblib>=0.11 in ./project_env/lib/python3.8/site-packages (from scikit-learn->sklearn) (1.0.1)\n",
      "Installing collected packages: threadpoolctl, scipy, scikit-learn, sklearn\n",
      "Successfully installed scikit-learn-0.24.1 scipy-1.6.2 sklearn-0.0 threadpoolctl-2.1.0\n"
     ]
    }
   ],
   "source": [
    "!pip install sklearn"
   ]
  },
  {
   "cell_type": "code",
   "execution_count": 30,
   "id": "77f13233",
   "metadata": {},
   "outputs": [],
   "source": [
    "consumerKey = \"KkFRbQpwS8JncbWNnM0v8BV78\"\n",
    "consumerSecret = \"70xy7O72aLTx1hX3vqCGRpezhYYBqQaCKyLhO05mhTb1oH0Ceq\"\n",
    "accessToken = \"1183387752-PvTJTXRS8MZVaTkAlcLGWxo71j4Iz3xUNbLia4w\"\n",
    "accessTokenSecret = \"x0nMDC15uin9l5ZQlu1byqGaXkrD3bSkENIi1hOwJlCkn\"\n",
    "\n",
    "auth = tweepy.OAuthHandler(consumerKey, consumerSecret)\n",
    "auth.set_access_token(accessToken, accessTokenSecret)\n",
    "api = tweepy.API(auth)"
   ]
  },
  {
   "cell_type": "code",
   "execution_count": 31,
   "id": "fc410dd9",
   "metadata": {},
   "outputs": [
    {
     "name": "stdout",
     "output_type": "stream",
     "text": [
      "Please enter keyword or hashtag to search: Pogba\n",
      "Please enter how many tweets to analyze: 10\n"
     ]
    }
   ],
   "source": [
    "#Sentiment Analysis\n",
    "\n",
    "def percentage(part,whole):\n",
    "    return 100 * float(part)/float(whole) \n",
    "\n",
    "keyword = input(\"Please enter keyword or hashtag to search: \")\n",
    "noOfTweet = int(input (\"Please enter how many tweets to analyze: \"))\n",
    "\n",
    "\n",
    "tweets = tweepy.Cursor(api.search, q=keyword).items(noOfTweet)\n",
    "positive  = 0\n",
    "negative = 0\n",
    "neutral = 0\n",
    "polarity = 0\n",
    "tweet_list = []\n",
    "neutral_list = []\n",
    "negative_list = []\n",
    "positive_list = []\n",
    "\n",
    "for tweet in tweets:\n",
    "    \n",
    "    #print(tweet.text)\n",
    "    tweet_list.append(tweet.text)\n",
    "    analysis = TextBlob(tweet.text)\n",
    "    score = SentimentIntensityAnalyzer().polarity_scores(tweet.text)\n",
    "    neg = score['neg']\n",
    "    neu = score['neu']\n",
    "    pos = score['pos']\n",
    "    comp = score['compound']\n",
    "    polarity += analysis.sentiment.polarity\n",
    "    \n",
    "    if neg > pos:\n",
    "        negative_list.append(tweet.text)\n",
    "        negative += 1\n",
    "\n",
    "    elif pos > neg:\n",
    "        positive_list.append(tweet.text)\n",
    "        positive += 1\n",
    "    \n",
    "    elif pos == neg:\n",
    "        neutral_list.append(tweet.text)\n",
    "        neutral += 1\n",
    "\n",
    "positive = percentage(positive, noOfTweet)\n",
    "negative = percentage(negative, noOfTweet)\n",
    "neutral = percentage(neutral, noOfTweet)\n",
    "polarity = percentage(polarity, noOfTweet)\n",
    "positive = format(positive, '.1f')\n",
    "negative = format(negative, '.1f')\n",
    "neutral = format(neutral, '.1f')"
   ]
  },
  {
   "cell_type": "code",
   "execution_count": 32,
   "id": "7bd0b83e",
   "metadata": {},
   "outputs": [
    {
     "name": "stdout",
     "output_type": "stream",
     "text": [
      "total number:  10\n",
      "positive number:  5\n",
      "negative number:  3\n",
      "neutral number:  2\n"
     ]
    }
   ],
   "source": [
    "#Number of Tweets (Total, Positive, Negative, Neutral)\n",
    "tweet_list = pd.DataFrame(tweet_list)\n",
    "neutral_list = pd.DataFrame(neutral_list)\n",
    "negative_list = pd.DataFrame(negative_list)\n",
    "positive_list = pd.DataFrame(positive_list)\n",
    "print(\"total number: \",len(tweet_list))\n",
    "print(\"positive number: \",len(positive_list))\n",
    "print(\"negative number: \", len(negative_list))\n",
    "print(\"neutral number: \",len(neutral_list))"
   ]
  },
  {
   "cell_type": "code",
   "execution_count": 33,
   "id": "46a25c6f",
   "metadata": {},
   "outputs": [
    {
     "data": {
      "text/html": [
       "<div>\n",
       "<style scoped>\n",
       "    .dataframe tbody tr th:only-of-type {\n",
       "        vertical-align: middle;\n",
       "    }\n",
       "\n",
       "    .dataframe tbody tr th {\n",
       "        vertical-align: top;\n",
       "    }\n",
       "\n",
       "    .dataframe thead th {\n",
       "        text-align: right;\n",
       "    }\n",
       "</style>\n",
       "<table border=\"1\" class=\"dataframe\">\n",
       "  <thead>\n",
       "    <tr style=\"text-align: right;\">\n",
       "      <th></th>\n",
       "      <th>0</th>\n",
       "    </tr>\n",
       "  </thead>\n",
       "  <tbody>\n",
       "    <tr>\n",
       "      <th>0</th>\n",
       "      <td>@UnitedStandMUFC HENDERSON \\n       BAWB    BA...</td>\n",
       "    </tr>\n",
       "    <tr>\n",
       "      <th>1</th>\n",
       "      <td>Football Club I love- Man united\\nFootball Clu...</td>\n",
       "    </tr>\n",
       "    <tr>\n",
       "      <th>2</th>\n",
       "      <td>RT @astalavl: Football Club I love- Man utd\\nF...</td>\n",
       "    </tr>\n",
       "    <tr>\n",
       "      <th>3</th>\n",
       "      <td>@RandomN1gaboo Don’t forget Pogba and benzema akh</td>\n",
       "    </tr>\n",
       "    <tr>\n",
       "      <th>4</th>\n",
       "      <td>@ftbl_michael @YANITED9908 Where does Grealish...</td>\n",
       "    </tr>\n",
       "    <tr>\n",
       "      <th>5</th>\n",
       "      <td>RT @utdreport: Dean Henderson: \"It's not true ...</td>\n",
       "    </tr>\n",
       "    <tr>\n",
       "      <th>6</th>\n",
       "      <td>RT @S_OkudzetoAblak: Who is generous enough to...</td>\n",
       "    </tr>\n",
       "    <tr>\n",
       "      <th>7</th>\n",
       "      <td>Football Club I love- Man utd\\nFootball Club I...</td>\n",
       "    </tr>\n",
       "    <tr>\n",
       "      <th>8</th>\n",
       "      <td>@VALIANT_UTD Nah we back to pogba now</td>\n",
       "    </tr>\n",
       "    <tr>\n",
       "      <th>9</th>\n",
       "      <td>@REDEVIL0123 @ManUtd Only Bruno? He has Rashfo...</td>\n",
       "    </tr>\n",
       "  </tbody>\n",
       "</table>\n",
       "</div>"
      ],
      "text/plain": [
       "                                                   0\n",
       "0  @UnitedStandMUFC HENDERSON \\n       BAWB    BA...\n",
       "1  Football Club I love- Man united\\nFootball Clu...\n",
       "2  RT @astalavl: Football Club I love- Man utd\\nF...\n",
       "3  @RandomN1gaboo Don’t forget Pogba and benzema akh\n",
       "4  @ftbl_michael @YANITED9908 Where does Grealish...\n",
       "5  RT @utdreport: Dean Henderson: \"It's not true ...\n",
       "6  RT @S_OkudzetoAblak: Who is generous enough to...\n",
       "7  Football Club I love- Man utd\\nFootball Club I...\n",
       "8              @VALIANT_UTD Nah we back to pogba now\n",
       "9  @REDEVIL0123 @ManUtd Only Bruno? He has Rashfo..."
      ]
     },
     "execution_count": 33,
     "metadata": {},
     "output_type": "execute_result"
    }
   ],
   "source": [
    "tweet_list"
   ]
  },
  {
   "cell_type": "code",
   "execution_count": 34,
   "id": "42e44aff",
   "metadata": {},
   "outputs": [],
   "source": [
    "tweet_list.drop_duplicates(inplace = True)"
   ]
  },
  {
   "cell_type": "code",
   "execution_count": 35,
   "id": "4e704ad0",
   "metadata": {},
   "outputs": [
    {
     "data": {
      "text/html": [
       "<div>\n",
       "<style scoped>\n",
       "    .dataframe tbody tr th:only-of-type {\n",
       "        vertical-align: middle;\n",
       "    }\n",
       "\n",
       "    .dataframe tbody tr th {\n",
       "        vertical-align: top;\n",
       "    }\n",
       "\n",
       "    .dataframe thead th {\n",
       "        text-align: right;\n",
       "    }\n",
       "</style>\n",
       "<table border=\"1\" class=\"dataframe\">\n",
       "  <thead>\n",
       "    <tr style=\"text-align: right;\">\n",
       "      <th></th>\n",
       "      <th>0</th>\n",
       "      <th>text</th>\n",
       "    </tr>\n",
       "  </thead>\n",
       "  <tbody>\n",
       "    <tr>\n",
       "      <th>0</th>\n",
       "      <td>@UnitedStandMUFC HENDERSON \\n       BAWB    BA...</td>\n",
       "      <td>@UnitedStandMUFC HENDERSON \\n       BAWB    BA...</td>\n",
       "    </tr>\n",
       "    <tr>\n",
       "      <th>1</th>\n",
       "      <td>Football Club I love- Man united\\nFootball Clu...</td>\n",
       "      <td>Football Club I love- Man united\\nFootball Clu...</td>\n",
       "    </tr>\n",
       "    <tr>\n",
       "      <th>2</th>\n",
       "      <td>RT @astalavl: Football Club I love- Man utd\\nF...</td>\n",
       "      <td>RT @astalavl: Football Club I love- Man utd\\nF...</td>\n",
       "    </tr>\n",
       "    <tr>\n",
       "      <th>3</th>\n",
       "      <td>@RandomN1gaboo Don’t forget Pogba and benzema akh</td>\n",
       "      <td>@RandomN1gaboo Don’t forget Pogba and benzema akh</td>\n",
       "    </tr>\n",
       "    <tr>\n",
       "      <th>4</th>\n",
       "      <td>@ftbl_michael @YANITED9908 Where does Grealish...</td>\n",
       "      <td>@ftbl_michael @YANITED9908 Where does Grealish...</td>\n",
       "    </tr>\n",
       "    <tr>\n",
       "      <th>5</th>\n",
       "      <td>RT @utdreport: Dean Henderson: \"It's not true ...</td>\n",
       "      <td>RT @utdreport: Dean Henderson: \"It's not true ...</td>\n",
       "    </tr>\n",
       "    <tr>\n",
       "      <th>6</th>\n",
       "      <td>RT @S_OkudzetoAblak: Who is generous enough to...</td>\n",
       "      <td>RT @S_OkudzetoAblak: Who is generous enough to...</td>\n",
       "    </tr>\n",
       "    <tr>\n",
       "      <th>7</th>\n",
       "      <td>Football Club I love- Man utd\\nFootball Club I...</td>\n",
       "      <td>Football Club I love- Man utd\\nFootball Club I...</td>\n",
       "    </tr>\n",
       "    <tr>\n",
       "      <th>8</th>\n",
       "      <td>@VALIANT_UTD Nah we back to pogba now</td>\n",
       "      <td>@VALIANT_UTD Nah we back to pogba now</td>\n",
       "    </tr>\n",
       "    <tr>\n",
       "      <th>9</th>\n",
       "      <td>@REDEVIL0123 @ManUtd Only Bruno? He has Rashfo...</td>\n",
       "      <td>@REDEVIL0123 @ManUtd Only Bruno? He has Rashfo...</td>\n",
       "    </tr>\n",
       "  </tbody>\n",
       "</table>\n",
       "</div>"
      ],
      "text/plain": [
       "                                                   0  \\\n",
       "0  @UnitedStandMUFC HENDERSON \\n       BAWB    BA...   \n",
       "1  Football Club I love- Man united\\nFootball Clu...   \n",
       "2  RT @astalavl: Football Club I love- Man utd\\nF...   \n",
       "3  @RandomN1gaboo Don’t forget Pogba and benzema akh   \n",
       "4  @ftbl_michael @YANITED9908 Where does Grealish...   \n",
       "5  RT @utdreport: Dean Henderson: \"It's not true ...   \n",
       "6  RT @S_OkudzetoAblak: Who is generous enough to...   \n",
       "7  Football Club I love- Man utd\\nFootball Club I...   \n",
       "8              @VALIANT_UTD Nah we back to pogba now   \n",
       "9  @REDEVIL0123 @ManUtd Only Bruno? He has Rashfo...   \n",
       "\n",
       "                                                text  \n",
       "0  @UnitedStandMUFC HENDERSON \\n       BAWB    BA...  \n",
       "1  Football Club I love- Man united\\nFootball Clu...  \n",
       "2  RT @astalavl: Football Club I love- Man utd\\nF...  \n",
       "3  @RandomN1gaboo Don’t forget Pogba and benzema akh  \n",
       "4  @ftbl_michael @YANITED9908 Where does Grealish...  \n",
       "5  RT @utdreport: Dean Henderson: \"It's not true ...  \n",
       "6  RT @S_OkudzetoAblak: Who is generous enough to...  \n",
       "7  Football Club I love- Man utd\\nFootball Club I...  \n",
       "8              @VALIANT_UTD Nah we back to pogba now  \n",
       "9  @REDEVIL0123 @ManUtd Only Bruno? He has Rashfo...  "
      ]
     },
     "execution_count": 35,
     "metadata": {},
     "output_type": "execute_result"
    }
   ],
   "source": [
    "tw_list = pd.DataFrame(tweet_list)\n",
    "tw_list[\"text\"] = tw_list[0]\n",
    "tw_list"
   ]
  },
  {
   "cell_type": "code",
   "execution_count": 37,
   "id": "61b52c13",
   "metadata": {},
   "outputs": [
    {
     "data": {
      "text/html": [
       "<div>\n",
       "<style scoped>\n",
       "    .dataframe tbody tr th:only-of-type {\n",
       "        vertical-align: middle;\n",
       "    }\n",
       "\n",
       "    .dataframe tbody tr th {\n",
       "        vertical-align: top;\n",
       "    }\n",
       "\n",
       "    .dataframe thead th {\n",
       "        text-align: right;\n",
       "    }\n",
       "</style>\n",
       "<table border=\"1\" class=\"dataframe\">\n",
       "  <thead>\n",
       "    <tr style=\"text-align: right;\">\n",
       "      <th></th>\n",
       "      <th>0</th>\n",
       "      <th>text</th>\n",
       "      <th>polarity</th>\n",
       "      <th>subjectivity</th>\n",
       "      <th>sentiment</th>\n",
       "      <th>neg</th>\n",
       "      <th>neu</th>\n",
       "      <th>pos</th>\n",
       "      <th>compound</th>\n",
       "    </tr>\n",
       "  </thead>\n",
       "  <tbody>\n",
       "    <tr>\n",
       "      <th>0</th>\n",
       "      <td>@UnitedStandMUFC HENDERSON \\n       BAWB    BA...</td>\n",
       "      <td>@UnitedStandMUFC HENDERSON \\n       BAWB    BA...</td>\n",
       "      <td>0.000000</td>\n",
       "      <td>0.00</td>\n",
       "      <td>neutral</td>\n",
       "      <td>0.000</td>\n",
       "      <td>1.000</td>\n",
       "      <td>0.000</td>\n",
       "      <td>0.0000</td>\n",
       "    </tr>\n",
       "    <tr>\n",
       "      <th>1</th>\n",
       "      <td>Football Club I love- Man united\\nFootball Clu...</td>\n",
       "      <td>Football Club I love- Man united\\nFootball Clu...</td>\n",
       "      <td>0.500000</td>\n",
       "      <td>0.60</td>\n",
       "      <td>positive</td>\n",
       "      <td>0.108</td>\n",
       "      <td>0.498</td>\n",
       "      <td>0.394</td>\n",
       "      <td>0.7845</td>\n",
       "    </tr>\n",
       "    <tr>\n",
       "      <th>2</th>\n",
       "      <td>RT @astalavl: Football Club I love- Man utd\\nF...</td>\n",
       "      <td>RT @astalavl: Football Club I love- Man utd\\nF...</td>\n",
       "      <td>-0.033333</td>\n",
       "      <td>0.60</td>\n",
       "      <td>positive</td>\n",
       "      <td>0.217</td>\n",
       "      <td>0.552</td>\n",
       "      <td>0.231</td>\n",
       "      <td>0.1027</td>\n",
       "    </tr>\n",
       "    <tr>\n",
       "      <th>3</th>\n",
       "      <td>@RandomN1gaboo Don’t forget Pogba and benzema akh</td>\n",
       "      <td>@RandomN1gaboo Don’t forget Pogba and benzema akh</td>\n",
       "      <td>0.000000</td>\n",
       "      <td>0.00</td>\n",
       "      <td>negative</td>\n",
       "      <td>0.241</td>\n",
       "      <td>0.759</td>\n",
       "      <td>0.000</td>\n",
       "      <td>-0.2263</td>\n",
       "    </tr>\n",
       "    <tr>\n",
       "      <th>4</th>\n",
       "      <td>@ftbl_michael @YANITED9908 Where does Grealish...</td>\n",
       "      <td>@ftbl_michael @YANITED9908 Where does Grealish...</td>\n",
       "      <td>0.400000</td>\n",
       "      <td>0.40</td>\n",
       "      <td>positive</td>\n",
       "      <td>0.000</td>\n",
       "      <td>0.878</td>\n",
       "      <td>0.122</td>\n",
       "      <td>0.3612</td>\n",
       "    </tr>\n",
       "    <tr>\n",
       "      <th>5</th>\n",
       "      <td>RT @utdreport: Dean Henderson: \"It's not true ...</td>\n",
       "      <td>RT @utdreport: Dean Henderson: \"It's not true ...</td>\n",
       "      <td>0.287500</td>\n",
       "      <td>0.70</td>\n",
       "      <td>negative</td>\n",
       "      <td>0.086</td>\n",
       "      <td>0.848</td>\n",
       "      <td>0.066</td>\n",
       "      <td>-0.1361</td>\n",
       "    </tr>\n",
       "    <tr>\n",
       "      <th>6</th>\n",
       "      <td>RT @S_OkudzetoAblak: Who is generous enough to...</td>\n",
       "      <td>RT @S_OkudzetoAblak: Who is generous enough to...</td>\n",
       "      <td>0.000000</td>\n",
       "      <td>0.50</td>\n",
       "      <td>positive</td>\n",
       "      <td>0.000</td>\n",
       "      <td>0.784</td>\n",
       "      <td>0.216</td>\n",
       "      <td>0.5106</td>\n",
       "    </tr>\n",
       "    <tr>\n",
       "      <th>7</th>\n",
       "      <td>Football Club I love- Man utd\\nFootball Club I...</td>\n",
       "      <td>Football Club I love- Man utd\\nFootball Club I...</td>\n",
       "      <td>0.350000</td>\n",
       "      <td>0.45</td>\n",
       "      <td>positive</td>\n",
       "      <td>0.107</td>\n",
       "      <td>0.617</td>\n",
       "      <td>0.276</td>\n",
       "      <td>0.6249</td>\n",
       "    </tr>\n",
       "    <tr>\n",
       "      <th>8</th>\n",
       "      <td>@VALIANT_UTD Nah we back to pogba now</td>\n",
       "      <td>@VALIANT_UTD Nah we back to pogba now</td>\n",
       "      <td>0.000000</td>\n",
       "      <td>0.00</td>\n",
       "      <td>negative</td>\n",
       "      <td>0.189</td>\n",
       "      <td>0.811</td>\n",
       "      <td>0.000</td>\n",
       "      <td>-0.1027</td>\n",
       "    </tr>\n",
       "    <tr>\n",
       "      <th>9</th>\n",
       "      <td>@REDEVIL0123 @ManUtd Only Bruno? He has Rashfo...</td>\n",
       "      <td>@REDEVIL0123 @ManUtd Only Bruno? He has Rashfo...</td>\n",
       "      <td>0.000000</td>\n",
       "      <td>1.00</td>\n",
       "      <td>neutral</td>\n",
       "      <td>0.000</td>\n",
       "      <td>1.000</td>\n",
       "      <td>0.000</td>\n",
       "      <td>0.0000</td>\n",
       "    </tr>\n",
       "  </tbody>\n",
       "</table>\n",
       "</div>"
      ],
      "text/plain": [
       "                                                   0  \\\n",
       "0  @UnitedStandMUFC HENDERSON \\n       BAWB    BA...   \n",
       "1  Football Club I love- Man united\\nFootball Clu...   \n",
       "2  RT @astalavl: Football Club I love- Man utd\\nF...   \n",
       "3  @RandomN1gaboo Don’t forget Pogba and benzema akh   \n",
       "4  @ftbl_michael @YANITED9908 Where does Grealish...   \n",
       "5  RT @utdreport: Dean Henderson: \"It's not true ...   \n",
       "6  RT @S_OkudzetoAblak: Who is generous enough to...   \n",
       "7  Football Club I love- Man utd\\nFootball Club I...   \n",
       "8              @VALIANT_UTD Nah we back to pogba now   \n",
       "9  @REDEVIL0123 @ManUtd Only Bruno? He has Rashfo...   \n",
       "\n",
       "                                                text  polarity  subjectivity  \\\n",
       "0  @UnitedStandMUFC HENDERSON \\n       BAWB    BA...  0.000000          0.00   \n",
       "1  Football Club I love- Man united\\nFootball Clu...  0.500000          0.60   \n",
       "2  RT @astalavl: Football Club I love- Man utd\\nF... -0.033333          0.60   \n",
       "3  @RandomN1gaboo Don’t forget Pogba and benzema akh  0.000000          0.00   \n",
       "4  @ftbl_michael @YANITED9908 Where does Grealish...  0.400000          0.40   \n",
       "5  RT @utdreport: Dean Henderson: \"It's not true ...  0.287500          0.70   \n",
       "6  RT @S_OkudzetoAblak: Who is generous enough to...  0.000000          0.50   \n",
       "7  Football Club I love- Man utd\\nFootball Club I...  0.350000          0.45   \n",
       "8              @VALIANT_UTD Nah we back to pogba now  0.000000          0.00   \n",
       "9  @REDEVIL0123 @ManUtd Only Bruno? He has Rashfo...  0.000000          1.00   \n",
       "\n",
       "  sentiment    neg    neu    pos  compound  \n",
       "0   neutral  0.000  1.000  0.000    0.0000  \n",
       "1  positive  0.108  0.498  0.394    0.7845  \n",
       "2  positive  0.217  0.552  0.231    0.1027  \n",
       "3  negative  0.241  0.759  0.000   -0.2263  \n",
       "4  positive  0.000  0.878  0.122    0.3612  \n",
       "5  negative  0.086  0.848  0.066   -0.1361  \n",
       "6  positive  0.000  0.784  0.216    0.5106  \n",
       "7  positive  0.107  0.617  0.276    0.6249  \n",
       "8  negative  0.189  0.811  0.000   -0.1027  \n",
       "9   neutral  0.000  1.000  0.000    0.0000  "
      ]
     },
     "execution_count": 37,
     "metadata": {},
     "output_type": "execute_result"
    }
   ],
   "source": [
    "#Calculating Negative, Positive, Neutral and Compound values\n",
    "\n",
    "tw_list[['polarity', 'subjectivity']] = tw_list['text'].apply(lambda Text: pd.Series(TextBlob(Text).sentiment))\n",
    "for index, row in tw_list['text'].iteritems():\n",
    "    score = SentimentIntensityAnalyzer().polarity_scores(row)\n",
    "    neg = score['neg']\n",
    "    neu = score['neu']\n",
    "    pos = score['pos']\n",
    "    comp = score['compound']\n",
    "    if neg > pos:\n",
    "        tw_list.loc[index, 'sentiment'] = \"negative\"\n",
    "    elif pos > neg:\n",
    "        tw_list.loc[index, 'sentiment'] = \"positive\"\n",
    "    else:\n",
    "        tw_list.loc[index, 'sentiment'] = \"neutral\"\n",
    "    tw_list.loc[index, 'neg'] = neg\n",
    "    tw_list.loc[index, 'neu'] = neu\n",
    "    tw_list.loc[index, 'pos'] = pos\n",
    "    tw_list.loc[index, 'compound'] = comp\n",
    "\n",
    "tw_list.head(50)"
   ]
  },
  {
   "cell_type": "code",
   "execution_count": null,
   "id": "d0d281f3",
   "metadata": {},
   "outputs": [],
   "source": []
  }
 ],
 "metadata": {
  "kernelspec": {
   "display_name": "Python 3",
   "language": "python",
   "name": "python3"
  },
  "language_info": {
   "codemirror_mode": {
    "name": "ipython",
    "version": 3
   },
   "file_extension": ".py",
   "mimetype": "text/x-python",
   "name": "python",
   "nbconvert_exporter": "python",
   "pygments_lexer": "ipython3",
   "version": "3.8.5"
  }
 },
 "nbformat": 4,
 "nbformat_minor": 5
}
